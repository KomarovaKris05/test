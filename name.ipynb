{
 "cells": [
  {
   "cell_type": "markdown",
   "metadata": {},
   "source": [
    "<h3 style=\"color:green\">✅👌 Запись названий снб в пустой дата фрейм </h3>"
   ]
  },
  {
   "cell_type": "code",
   "execution_count": 2,
   "metadata": {},
   "outputs": [],
   "source": [
    "import pandas as pd\n",
    "import plotly.express as px\n",
    "import numpy as np\n",
    "import pyarrow as pa #Для сохранения DataFrame с мультииндексом в формате Parquet вам потребуется использовать библиотеку pyarrow\n",
    "import pyarrow.parquet as pq\n",
    "import pickle\n",
    "import datetime"
   ]
  },
  {
   "cell_type": "code",
   "execution_count": 3,
   "metadata": {},
   "outputs": [],
   "source": [
    "predict= pd.read_excel('./forecast/forecast_freg_vol.xlsx') #прогноз\n",
    "snb_msop = pd.read_excel('./data/snb_msop.xlsx') #справочник мсоп с снб и названиями поставщиков\n",
    "snb_msop['L-1']= snb_msop['L-1'].str.replace('\"', '') # убираю кавычки, не отображаются в таблице с прогнозом\n",
    "\n",
    "predict.set_index('index',inplace=True) #отдельяем пеовый столбец с датой"
   ]
  },
  {
   "cell_type": "markdown",
   "metadata": {},
   "source": [
    "<h3 style=\"color:red\"> ЖРС </h3>"
   ]
  },
  {
   "cell_type": "code",
   "execution_count": 4,
   "metadata": {},
   "outputs": [],
   "source": [
    "grs=snb_msop.loc[snb_msop['L-3'].isin(['Окатыши', 'Аглосырье'])]\n",
    "\n",
    "predict_columns = predict.columns.values.tolist()\n",
    "grs_snb_unique = list(grs['SNB'].unique())\n",
    "\n",
    "common_elements = list(set(predict_columns).intersection(grs_snb_unique))\n",
    "\n",
    "grs_df = predict.iloc[:, [predict.columns.get_loc(col) for col in common_elements]]\n",
    "#grs_df.head()"
   ]
  },
  {
   "cell_type": "markdown",
   "metadata": {},
   "source": [
    "<h3 style=\"color:red\"> Уголь </h3>"
   ]
  },
  {
   "cell_type": "code",
   "execution_count": 5,
   "metadata": {},
   "outputs": [],
   "source": [
    "coal=snb_msop.loc[snb_msop['L-3'].isin(['Угли технологические'])]\n",
    "\n",
    "predict_columns = predict.columns.values.tolist()\n",
    "coal_snb_unique = list(coal['SNB'].unique())\n",
    "\n",
    "common_elements = list(set(predict_columns).intersection(coal_snb_unique))\n",
    "\n",
    "coal_df = predict.iloc[:, [predict.columns.get_loc(col) for col in common_elements]]\n",
    "#coal_df.head()"
   ]
  },
  {
   "cell_type": "markdown",
   "metadata": {},
   "source": [
    "ЖРС"
   ]
  },
  {
   "cell_type": "code",
   "execution_count": 6,
   "metadata": {},
   "outputs": [],
   "source": [
    "predict=grs_df\n",
    "\n",
    "df = pd.DataFrame()\n",
    "\n",
    "for i in range(len(list(predict))):\n",
    "    \n",
    "    df.loc[0, i] = list(snb_msop.loc[snb_msop['SNB'] == list(predict)[i]]['L-1'])\n",
    "    df.loc[1, i] = list(predict)[i]\n",
    "#print(df)\n",
    "\n",
    "a1 = pd.DataFrame(predict.values)\n",
    "result = pd.concat([ df,a1], axis=0)\n",
    "#result"
   ]
  },
  {
   "cell_type": "code",
   "execution_count": 7,
   "metadata": {},
   "outputs": [],
   "source": [
    "date = pd.DataFrame()\n",
    "date.loc[0,1]='Дата'\n",
    "date.loc[1,1]=''\n",
    "date=pd.concat([ date,pd.DataFrame(predict.index )], axis=0).iloc[:,1]\n",
    "date.iloc[0,]='Дата'\n",
    "date.iloc[1,]=''\n",
    "result=pd.concat([ date,result], axis=1) "
   ]
  },
  {
   "cell_type": "code",
   "execution_count": 8,
   "metadata": {},
   "outputs": [
    {
     "name": "stderr",
     "output_type": "stream",
     "text": [
      "C:\\Users\\Christina\\AppData\\Local\\Temp\\ipykernel_6860\\1552358577.py:2: FutureWarning: The frame.append method is deprecated and will be removed from pandas in a future version. Use pandas.concat instead.\n",
      "  result = result.append(total, ignore_index=True) #Добавление новой строки в конец DataFrame\n"
     ]
    }
   ],
   "source": [
    "total = pd.DataFrame(a1.sum()).T\n",
    "result = result.append(total, ignore_index=True) #Добавление новой строки в конец DataFrame\n",
    "result.loc[len(result)-1,'index'] = 'Итого:'"
   ]
  },
  {
   "cell_type": "code",
   "execution_count": 9,
   "metadata": {},
   "outputs": [],
   "source": [
    "#result.to_excel  (r'C:\\Users\\Komarova149158\\Desktop\\strimlit\\data\\result_grs.xlsx')\n",
    "result.to_excel('./forecast/result_grs.xlsx', index=False)"
   ]
  },
  {
   "cell_type": "markdown",
   "metadata": {},
   "source": [
    "Уголь"
   ]
  },
  {
   "cell_type": "code",
   "execution_count": 10,
   "metadata": {},
   "outputs": [],
   "source": [
    "predict=coal_df\n",
    "\n",
    "df = pd.DataFrame()\n",
    "\n",
    "for i in range(len(list(predict))):\n",
    "    \n",
    "    df.loc[0, i] = list(snb_msop.loc[snb_msop['SNB'] == list(predict)[i]]['L-1'])\n",
    "    df.loc[1, i] = list(predict)[i]\n",
    "#print(df)\n",
    "\n",
    "a1 = pd.DataFrame(predict.values)\n",
    "result = pd.concat([ df,a1], axis=0)"
   ]
  },
  {
   "cell_type": "code",
   "execution_count": 11,
   "metadata": {},
   "outputs": [],
   "source": [
    "date = pd.DataFrame()\n",
    "date.loc[0,1]='Дата'\n",
    "date.loc[1,1]=''\n",
    "date=pd.concat([ date,pd.DataFrame(predict.index )], axis=0).iloc[:,1]\n",
    "date.iloc[0,]='Дата'\n",
    "date.iloc[1,]=''\n",
    "result=pd.concat([ date,result], axis=1) "
   ]
  },
  {
   "cell_type": "code",
   "execution_count": 12,
   "metadata": {},
   "outputs": [
    {
     "name": "stderr",
     "output_type": "stream",
     "text": [
      "C:\\Users\\Christina\\AppData\\Local\\Temp\\ipykernel_6860\\1552358577.py:2: FutureWarning: The frame.append method is deprecated and will be removed from pandas in a future version. Use pandas.concat instead.\n",
      "  result = result.append(total, ignore_index=True) #Добавление новой строки в конец DataFrame\n"
     ]
    }
   ],
   "source": [
    "total = pd.DataFrame(a1.sum()).T\n",
    "result = result.append(total, ignore_index=True) #Добавление новой строки в конец DataFrame\n",
    "result.loc[len(result)-1,'index'] = 'Итого:'"
   ]
  },
  {
   "cell_type": "code",
   "execution_count": 13,
   "metadata": {},
   "outputs": [],
   "source": [
    "#result.to_excel  (r'C:\\Users\\Komarova149158\\Desktop\\strimlit\\data\\result_coal.xlsx')\n",
    "result.to_excel  ('./forecast/result_coal.xlsx')\n"
   ]
  },
  {
   "cell_type": "code",
   "execution_count": 16,
   "metadata": {},
   "outputs": [],
   "source": [
    "snb_msop = pd.read_excel('./data/snb_msop.xlsx')\n",
    "\n",
    "accuracy= pd.read_excel('./data/accuracy.xlsx')\n",
    "col = ['SNB','L-1','L-2','Объем по спецификации','Бюджет','Округление до вагонной нормы','date','%_Выполнения_плана']\n",
    "accuracy = accuracy[col]\n",
    "\n",
    "predict_grs= pd.read_excel('./data/result_grs.xlsx')\n",
    "predict_grs.set_index('Unnamed: 0',inplace=True)\n",
    "\n",
    "predict_coal= pd.read_excel('./data/result_coal.xlsx')\n",
    "predict_coal.set_index('Unnamed: 0',inplace=True)\n",
    "\n",
    "predict= pd.read_excel('./data/forecast_freg_vol.xlsx') #прогноз\n",
    "predict.set_index('index',inplace=True) #отдельяем пеовый столбец с датой\n",
    "\n",
    "df_all = pd.read_feather('./data/data_2023_strimlit.feather')"
   ]
  },
  {
   "cell_type": "code",
   "execution_count": 17,
   "metadata": {},
   "outputs": [],
   "source": [
    "start_date = snb_msop['date'].max()\n",
    "# Convert start_date to Pandas datetime format\n",
    "start_date = pd.to_datetime(start_date, format='%Y-%d-%m')\n",
    "start_of_month = start_date - pd.offsets.MonthBegin(1)\n",
    "end_of_month = start_date + pd.offsets.MonthEnd(0)\n",
    "# Generate all the dates of the month\n",
    "dates_of_month = pd.date_range(start=start_date, end=end_of_month, freq='D')"
   ]
  },
  {
   "cell_type": "code",
   "execution_count": 29,
   "metadata": {},
   "outputs": [],
   "source": [
    "common_elements = 'СНБ|103|00000144'\n",
    "#common_elements=select_event\n",
    "fact=df_all.loc[(df_all['СНБ_позиция'] == common_elements) & (df_all['DATAOTGR']>= '2023-11-01')]\n",
    "fact_two_columns = fact[['DATAOTGR', 'ves_nl']]\n",
    "\n",
    "if fact_two_columns.shape[0]==0:\n",
    "   fact_two_columns = pd.DataFrame(columns=['DATAOTGR'])\n",
    "   new_rows = []\n",
    "   for date in dates_of_month:\n",
    "    new_rows.append({'DATAOTGR': date})\n",
    "    fact_two_columns = pd.concat([fact_two_columns, pd.DataFrame(new_rows)], ignore_index=True)\n",
    "    fact_two_columns['ves_nl']=0"
   ]
  },
  {
   "cell_type": "code",
   "execution_count": 38,
   "metadata": {},
   "outputs": [
    {
     "data": {
      "text/html": [
       "<div>\n",
       "<style scoped>\n",
       "    .dataframe tbody tr th:only-of-type {\n",
       "        vertical-align: middle;\n",
       "    }\n",
       "\n",
       "    .dataframe tbody tr th {\n",
       "        vertical-align: top;\n",
       "    }\n",
       "\n",
       "    .dataframe thead th {\n",
       "        text-align: right;\n",
       "    }\n",
       "</style>\n",
       "<table border=\"1\" class=\"dataframe\">\n",
       "  <thead>\n",
       "    <tr style=\"text-align: right;\">\n",
       "      <th></th>\n",
       "      <th>DATAOTGR</th>\n",
       "      <th>ves_nl</th>\n",
       "    </tr>\n",
       "  </thead>\n",
       "  <tbody>\n",
       "    <tr>\n",
       "      <th>3011</th>\n",
       "      <td>2023-11-01</td>\n",
       "      <td>69.5</td>\n",
       "    </tr>\n",
       "    <tr>\n",
       "      <th>3037</th>\n",
       "      <td>2023-11-01</td>\n",
       "      <td>69.5</td>\n",
       "    </tr>\n",
       "    <tr>\n",
       "      <th>3130</th>\n",
       "      <td>2023-11-01</td>\n",
       "      <td>68.3</td>\n",
       "    </tr>\n",
       "    <tr>\n",
       "      <th>3177</th>\n",
       "      <td>2023-11-01</td>\n",
       "      <td>74.6</td>\n",
       "    </tr>\n",
       "    <tr>\n",
       "      <th>3337</th>\n",
       "      <td>2023-11-01</td>\n",
       "      <td>69.6</td>\n",
       "    </tr>\n",
       "    <tr>\n",
       "      <th>3374</th>\n",
       "      <td>2023-11-01</td>\n",
       "      <td>68.6</td>\n",
       "    </tr>\n",
       "    <tr>\n",
       "      <th>3424</th>\n",
       "      <td>2023-11-01</td>\n",
       "      <td>69.8</td>\n",
       "    </tr>\n",
       "    <tr>\n",
       "      <th>3565</th>\n",
       "      <td>2023-11-01</td>\n",
       "      <td>74.6</td>\n",
       "    </tr>\n",
       "    <tr>\n",
       "      <th>3824</th>\n",
       "      <td>2023-11-01</td>\n",
       "      <td>69.7</td>\n",
       "    </tr>\n",
       "    <tr>\n",
       "      <th>4028</th>\n",
       "      <td>2023-11-01</td>\n",
       "      <td>74.6</td>\n",
       "    </tr>\n",
       "    <tr>\n",
       "      <th>4363</th>\n",
       "      <td>2023-11-01</td>\n",
       "      <td>69.4</td>\n",
       "    </tr>\n",
       "    <tr>\n",
       "      <th>4440</th>\n",
       "      <td>2023-11-01</td>\n",
       "      <td>69.7</td>\n",
       "    </tr>\n",
       "    <tr>\n",
       "      <th>4474</th>\n",
       "      <td>2023-11-01</td>\n",
       "      <td>69.7</td>\n",
       "    </tr>\n",
       "    <tr>\n",
       "      <th>4592</th>\n",
       "      <td>2023-11-01</td>\n",
       "      <td>67.0</td>\n",
       "    </tr>\n",
       "    <tr>\n",
       "      <th>4612</th>\n",
       "      <td>2023-11-01</td>\n",
       "      <td>69.5</td>\n",
       "    </tr>\n",
       "    <tr>\n",
       "      <th>4617</th>\n",
       "      <td>2023-11-01</td>\n",
       "      <td>68.0</td>\n",
       "    </tr>\n",
       "    <tr>\n",
       "      <th>4640</th>\n",
       "      <td>2023-11-01</td>\n",
       "      <td>69.5</td>\n",
       "    </tr>\n",
       "    <tr>\n",
       "      <th>4641</th>\n",
       "      <td>2023-11-01</td>\n",
       "      <td>69.5</td>\n",
       "    </tr>\n",
       "    <tr>\n",
       "      <th>4729</th>\n",
       "      <td>2023-11-01</td>\n",
       "      <td>70.7</td>\n",
       "    </tr>\n",
       "    <tr>\n",
       "      <th>4852</th>\n",
       "      <td>2023-11-01</td>\n",
       "      <td>69.0</td>\n",
       "    </tr>\n",
       "    <tr>\n",
       "      <th>4907</th>\n",
       "      <td>2023-11-01</td>\n",
       "      <td>69.5</td>\n",
       "    </tr>\n",
       "    <tr>\n",
       "      <th>5140</th>\n",
       "      <td>2023-11-01</td>\n",
       "      <td>69.2</td>\n",
       "    </tr>\n",
       "    <tr>\n",
       "      <th>5330</th>\n",
       "      <td>2023-11-01</td>\n",
       "      <td>69.7</td>\n",
       "    </tr>\n",
       "    <tr>\n",
       "      <th>5492</th>\n",
       "      <td>2023-11-01</td>\n",
       "      <td>69.5</td>\n",
       "    </tr>\n",
       "    <tr>\n",
       "      <th>5769</th>\n",
       "      <td>2023-11-01</td>\n",
       "      <td>74.5</td>\n",
       "    </tr>\n",
       "    <tr>\n",
       "      <th>5890</th>\n",
       "      <td>2023-11-01</td>\n",
       "      <td>69.5</td>\n",
       "    </tr>\n",
       "    <tr>\n",
       "      <th>5947</th>\n",
       "      <td>2023-11-01</td>\n",
       "      <td>69.5</td>\n",
       "    </tr>\n",
       "    <tr>\n",
       "      <th>6267</th>\n",
       "      <td>2023-11-01</td>\n",
       "      <td>69.1</td>\n",
       "    </tr>\n",
       "    <tr>\n",
       "      <th>6684</th>\n",
       "      <td>2023-11-01</td>\n",
       "      <td>69.5</td>\n",
       "    </tr>\n",
       "    <tr>\n",
       "      <th>6744</th>\n",
       "      <td>2023-11-01</td>\n",
       "      <td>69.5</td>\n",
       "    </tr>\n",
       "    <tr>\n",
       "      <th>7531</th>\n",
       "      <td>2023-11-01</td>\n",
       "      <td>69.5</td>\n",
       "    </tr>\n",
       "    <tr>\n",
       "      <th>7771</th>\n",
       "      <td>2023-11-01</td>\n",
       "      <td>69.6</td>\n",
       "    </tr>\n",
       "    <tr>\n",
       "      <th>7794</th>\n",
       "      <td>2023-11-01</td>\n",
       "      <td>70.4</td>\n",
       "    </tr>\n",
       "    <tr>\n",
       "      <th>8645</th>\n",
       "      <td>2023-11-01</td>\n",
       "      <td>69.5</td>\n",
       "    </tr>\n",
       "    <tr>\n",
       "      <th>8799</th>\n",
       "      <td>2023-11-01</td>\n",
       "      <td>69.5</td>\n",
       "    </tr>\n",
       "    <tr>\n",
       "      <th>8983</th>\n",
       "      <td>2023-11-01</td>\n",
       "      <td>69.5</td>\n",
       "    </tr>\n",
       "    <tr>\n",
       "      <th>9083</th>\n",
       "      <td>2023-11-01</td>\n",
       "      <td>69.0</td>\n",
       "    </tr>\n",
       "    <tr>\n",
       "      <th>9421</th>\n",
       "      <td>2023-11-01</td>\n",
       "      <td>70.6</td>\n",
       "    </tr>\n",
       "    <tr>\n",
       "      <th>9604</th>\n",
       "      <td>2023-11-01</td>\n",
       "      <td>69.0</td>\n",
       "    </tr>\n",
       "    <tr>\n",
       "      <th>9688</th>\n",
       "      <td>2023-11-01</td>\n",
       "      <td>69.4</td>\n",
       "    </tr>\n",
       "  </tbody>\n",
       "</table>\n",
       "</div>"
      ],
      "text/plain": [
       "        DATAOTGR  ves_nl\n",
       "3011  2023-11-01    69.5\n",
       "3037  2023-11-01    69.5\n",
       "3130  2023-11-01    68.3\n",
       "3177  2023-11-01    74.6\n",
       "3337  2023-11-01    69.6\n",
       "3374  2023-11-01    68.6\n",
       "3424  2023-11-01    69.8\n",
       "3565  2023-11-01    74.6\n",
       "3824  2023-11-01    69.7\n",
       "4028  2023-11-01    74.6\n",
       "4363  2023-11-01    69.4\n",
       "4440  2023-11-01    69.7\n",
       "4474  2023-11-01    69.7\n",
       "4592  2023-11-01    67.0\n",
       "4612  2023-11-01    69.5\n",
       "4617  2023-11-01    68.0\n",
       "4640  2023-11-01    69.5\n",
       "4641  2023-11-01    69.5\n",
       "4729  2023-11-01    70.7\n",
       "4852  2023-11-01    69.0\n",
       "4907  2023-11-01    69.5\n",
       "5140  2023-11-01    69.2\n",
       "5330  2023-11-01    69.7\n",
       "5492  2023-11-01    69.5\n",
       "5769  2023-11-01    74.5\n",
       "5890  2023-11-01    69.5\n",
       "5947  2023-11-01    69.5\n",
       "6267  2023-11-01    69.1\n",
       "6684  2023-11-01    69.5\n",
       "6744  2023-11-01    69.5\n",
       "7531  2023-11-01    69.5\n",
       "7771  2023-11-01    69.6\n",
       "7794  2023-11-01    70.4\n",
       "8645  2023-11-01    69.5\n",
       "8799  2023-11-01    69.5\n",
       "8983  2023-11-01    69.5\n",
       "9083  2023-11-01    69.0\n",
       "9421  2023-11-01    70.6\n",
       "9604  2023-11-01    69.0\n",
       "9688  2023-11-01    69.4"
      ]
     },
     "execution_count": 38,
     "metadata": {},
     "output_type": "execute_result"
    }
   ],
   "source": [
    "fact_two_columns"
   ]
  },
  {
   "cell_type": "code",
   "execution_count": 30,
   "metadata": {},
   "outputs": [],
   "source": [
    "fact_two_columns['DATAOTGR'] =fact_two_columns['DATAOTGR'].dt.strftime('%Y-%m-%d')\n",
    "\n",
    "aggregated_data = fact_two_columns.groupby(['DATAOTGR']).sum()\n",
    "aggregated_data.reset_index(drop=False , inplace=True)"
   ]
  },
  {
   "cell_type": "code",
   "execution_count": 31,
   "metadata": {},
   "outputs": [],
   "source": [
    "df = pd.DataFrame(columns=['DATAOTGR'])\n",
    "\n",
    "# Создаем список новых строк\n",
    "new_rows = []\n",
    "for date in dates_of_month:\n",
    "    new_rows.append({'DATAOTGR': date})\n",
    "\n",
    "# Конкатенируем новые строки с существующим DataFrame\n",
    "df = pd.concat([df, pd.DataFrame(new_rows)], ignore_index=True)\n",
    "\n",
    "df['DATAOTGR'] = df['DATAOTGR'].astype(str)\n",
    "aggregated_data['DATAOTGR'] = aggregated_data['DATAOTGR'].astype(str)"
   ]
  },
  {
   "cell_type": "code",
   "execution_count": 32,
   "metadata": {},
   "outputs": [],
   "source": [
    "# Конкатенируем датафреймы по колонкам \"DATAOTGR\"\n",
    "result=df.merge(aggregated_data, how='outer')  #cross и т.д\n",
    "result = result.iloc[:,0:].fillna(0)\n",
    "\n",
    "predict_columns = predict.columns.values.tolist()\n",
    "\n",
    "column_index = predict_columns.index(common_elements)\n",
    "column_index\n",
    "d1 = predict.iloc[:, column_index]\n",
    "d1.head()\n",
    "\n",
    "data = {'Дата': list(d1.index),\n",
    "        'Прогноз': list(d1.values),\n",
    "        'Факт':list(result['ves_nl'])\n",
    "        }"
   ]
  },
  {
   "cell_type": "code",
   "execution_count": 33,
   "metadata": {},
   "outputs": [
    {
     "data": {
      "text/plain": [
       "index\n",
       "2023-11-01       0\n",
       "2023-11-02    4700\n",
       "2023-11-03    4700\n",
       "2023-11-04    4700\n",
       "2023-11-05    4700\n",
       "Name: СНБ|103|00000144, dtype: int64"
      ]
     },
     "execution_count": 33,
     "metadata": {},
     "output_type": "execute_result"
    }
   ],
   "source": [
    "d1.head()"
   ]
  },
  {
   "cell_type": "code",
   "execution_count": 34,
   "metadata": {},
   "outputs": [],
   "source": [
    "fig1 = px.bar(data, x='Дата', y=['Прогноз','Факт'], barmode='group',color='variable',text='value',\n",
    " color_discrete_map={\n",
    "        'Прогноз': 'rgb(855,195,0)',\n",
    "        'Факт': 'rgb(0,53,102)'\n",
    "    }\n",
    ") #sta text='2'"
   ]
  },
  {
   "cell_type": "code",
   "execution_count": 36,
   "metadata": {},
   "outputs": [
    {
     "data": {
      "text/plain": [
       "<bound method NDFrame._add_numeric_operations.<locals>.max of 0       2023-10-15 11:41:55\n",
       "1       2023-10-06 11:35:52\n",
       "2       2023-09-27 09:07:43\n",
       "3       2023-10-29 11:21:24\n",
       "4       2023-10-29 11:21:24\n",
       "                ...        \n",
       "80432   2023-10-20 05:44:10\n",
       "80433   2023-10-10 05:50:58\n",
       "80434   2023-10-29 19:26:49\n",
       "80435   2023-10-31 07:09:42\n",
       "80436   2023-09-13 05:41:23\n",
       "Name: DATAOTGR, Length: 80437, dtype: datetime64[ns]>"
      ]
     },
     "execution_count": 36,
     "metadata": {},
     "output_type": "execute_result"
    }
   ],
   "source": [
    "df_all['DATAOTGR'].max"
   ]
  }
 ],
 "metadata": {
  "kernelspec": {
   "display_name": "base",
   "language": "python",
   "name": "python3"
  },
  "language_info": {
   "codemirror_mode": {
    "name": "ipython",
    "version": 3
   },
   "file_extension": ".py",
   "mimetype": "text/x-python",
   "name": "python",
   "nbconvert_exporter": "python",
   "pygments_lexer": "ipython3",
   "version": "3.11.3"
  },
  "orig_nbformat": 4
 },
 "nbformat": 4,
 "nbformat_minor": 2
}
